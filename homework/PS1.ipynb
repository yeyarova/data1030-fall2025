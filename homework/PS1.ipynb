{
 "cells": [
  {
   "cell_type": "markdown",
   "metadata": {},
   "source": [
    "# **Problem set 1**\n",
    "\n",
    "## Name: [TODO]\n",
    "\n",
    "## Link to your PS1 github repo: [TODO]\n",
    "\n",
    "## Create your DATA1030 environment (10 points)\n",
    "\n",
    "Before you start this homework assignment, please watch Isabel Restrepo's guest lecture on reproducable data science (available [here](https://brown.hosted.panopto.com/Panopto/Pages/Viewer.aspx?id=728c2a46-af2e-471c-a97f-ac55010de8c3)). She is the Assistant Director of Research Software Engineering and Data Science at the [Center for Computation and Visualization](https://ccv.brown.edu/) at Brown. She covers state of-the-art and industry-standard techniques to make your software, your data, and your workflows reproducable. She discusses the importance of github and conda, two tools we will use in DATA1030 but she covers additional tools that you might use later on during your internships.\n",
    "\n",
    "Please follow the instructions outlined in this [google doc](https://docs.google.com/document/d/1L-9jBGCe2FUS9pl3rSwK4mSU6AXOed16PT9eSmDm6zE/edit?usp=sharing) and create your DATA1030 coding environment. We recommend that you use conda but if you are more familiar with other package managers (like docker, homebrew, poetry), feel free to use those. However, please note that the TAs might not be able to help if you do not use conda. The most important thing is to install the packages with their versions as shown in the data1030.yml file of the [course's github repository](https://github.com/BrownDSI/data1030-fall2025).\n",
    "\n",
    "Once you are done, run the cell below. If your environment is correctly set up, you'll see 9 green OK signs. \n",
    "\n",
    "Once you solve the python coding exercises below, please follow the submission instructions in the google doc to submit your problem set solution."
   ]
  },
  {
   "cell_type": "code",
   "execution_count": 1,
   "metadata": {},
   "outputs": [
    {
     "name": "stdout",
     "output_type": "stream",
     "text": [
      "\u001b[42m[ OK ]\u001b[0m Python version is 3.12.10\n",
      "\n",
      "\u001b[42m[ OK ]\u001b[0m numpy version 2.2.5 is installed.\n",
      "\u001b[42m[ OK ]\u001b[0m matplotlib version 3.10.1 is installed.\n",
      "\u001b[42m[ OK ]\u001b[0m sklearn version 1.6.1 is installed.\n",
      "\u001b[42m[ OK ]\u001b[0m pandas version 2.2.3 is installed.\n",
      "\u001b[42m[ OK ]\u001b[0m xgboost version 3.0.0 is installed.\n",
      "\u001b[42m[ OK ]\u001b[0m shap version 0.47.2 is installed.\n",
      "\u001b[42m[ OK ]\u001b[0m polars version 1.27.1 is installed.\n",
      "\u001b[42m[ OK ]\u001b[0m seaborn version 0.13.2 is installed.\n"
     ]
    }
   ],
   "source": [
    "from __future__ import print_function\n",
    "from packaging.version import parse as Version\n",
    "from platform import python_version\n",
    "\n",
    "OK = '\\x1b[42m[ OK ]\\x1b[0m'\n",
    "FAIL = \"\\x1b[41m[FAIL]\\x1b[0m\"\n",
    "\n",
    "try:\n",
    "    import importlib\n",
    "except ImportError:\n",
    "    print(FAIL, \"Python version 3.12.10 is required,\"\n",
    "                \" but %s is installed.\" % sys.version)\n",
    "\n",
    "def import_version(pkg, min_ver, fail_msg=\"\"):\n",
    "    mod = None\n",
    "    try:\n",
    "        mod = importlib.import_module(pkg)\n",
    "        if pkg in {'PIL'}:\n",
    "            ver = mod.VERSION\n",
    "        else:\n",
    "            ver = mod.__version__\n",
    "        if Version(ver) == Version(min_ver):\n",
    "            print(OK, \"%s version %s is installed.\"\n",
    "                  % (lib, min_ver))\n",
    "        else:\n",
    "            print(FAIL, \"%s version %s is required, but %s installed.\"\n",
    "                  % (lib, min_ver, ver))    \n",
    "    except ImportError:\n",
    "        print(FAIL, '%s not installed. %s' % (pkg, fail_msg))\n",
    "    return mod\n",
    "\n",
    "\n",
    "# first check the python version\n",
    "pyversion = Version(python_version())\n",
    "\n",
    "if pyversion >= Version(\"3.12.10\"):\n",
    "    print(OK, \"Python version is %s\" % pyversion)\n",
    "elif pyversion < Version(\"3.12.10\"):\n",
    "    print(FAIL, \"Python version 3.12.10 is required,\"\n",
    "                \" but %s is installed.\" % pyversion)\n",
    "else:\n",
    "    print(FAIL, \"Unknown Python version: %s\" % pyversion)\n",
    "\n",
    "    \n",
    "print()\n",
    "requirements = {'numpy': \"2.2.5\", 'matplotlib': \"3.10.1\",'sklearn': \"1.6.1\", \n",
    "                'pandas': \"2.2.3\",'xgboost': \"3.0.0\", 'shap': \"0.47.2\", \n",
    "                'polars': \"1.27.1\", 'seaborn': \"0.13.2\"}\n",
    "\n",
    "# now the dependencies\n",
    "for lib, required_version in list(requirements.items()):\n",
    "    import_version(lib, required_version)"
   ]
  },
  {
   "cell_type": "markdown",
   "metadata": {},
   "source": [
    "I am so happy I finally works!"
   ]
  },
  {
   "cell_type": "markdown",
   "metadata": {},
   "source": [
    "# Python coding questions (30 points total)"
   ]
  },
  {
   "cell_type": "markdown",
   "metadata": {},
   "source": [
    "### **Problem 1a** (5 points)\n",
    "\n",
    "This is a live coding interview question I got during a job interview.\n",
    "\n",
    "Write a function which takes a number as input, and it returns the number of unique digits in it. \n",
    "\n",
    "If the input is 1, the output is 1.\n",
    "\n",
    "If the input is 10, the output is 2.\n",
    "\n",
    "If the input is 11, the output is 1.\n",
    "\n",
    "If the input is 123, the output is 3.\n",
    "\n",
    "If the unpit is 555, the output is 1.\n",
    "\n",
    "We'll be asking you to create tests throughout this class. This is the first time we use functions and tests, so a starter code is provided below.\n"
   ]
  },
  {
   "cell_type": "code",
   "execution_count": null,
   "metadata": {},
   "outputs": [
    {
     "data": {
      "text/plain": [
       "3"
      ]
     },
     "execution_count": 14,
     "metadata": {},
     "output_type": "execute_result"
    }
   ],
   "source": [
    "# function\n",
    "def count_unique_digits(number):\n",
    "    # count the number of unique digits and update the unique_digits integer\n",
    "    unique_digits = 0\n",
    "    # ADD YOUR CODE BELOW\n",
    "    # so \"-\" is not a digit as far as I know, but with method I come up (making number a string and finding its lengh, it WILL count \"-\")4\n",
    "    # so to solve this I will use abs() to get rig of minuses\n",
    "    # ow number can also be float with \".\" then \n",
    "    #I think another approach is better (I got stuck in previous one)\n",
    "    text = str(number)\n",
    "    digits = [i for i in text if i.isdigit()]\n",
    "    unique_digits = len(set(digits))\n",
    "    #why set? it gas a feature of leaving just unique elements so it is handy\n",
    "    return unique_digits\n",
    "\n",
    "count_unique_digits(-555.584)\n"
   ]
  },
  {
   "cell_type": "code",
   "execution_count": 15,
   "metadata": {},
   "outputs": [
    {
     "name": "stdout",
     "output_type": "stream",
     "text": [
      "correct!\n",
      "correct!\n",
      "correct!\n",
      "correct!\n",
      "correct!\n"
     ]
    }
   ],
   "source": [
    "# tests\n",
    "tests = { 1:1, 10:2, 11:1, 123:3, 555:1 }\n",
    "\n",
    "for test in tests.items():\n",
    "    \n",
    "    if count_unique_digits(test[0]) == test[1]: #We go through each test and check if the count_unique_digits function returns the correct output\n",
    "        print('correct!')\n",
    "    else:\n",
    "        print('incorrect!')\n",
    "        print('if the input is '+str(test[0])+', the correct output is '+str(test[1]))"
   ]
  },
  {
   "cell_type": "markdown",
   "metadata": {},
   "source": [
    "### **Problem 1b** (10 points)\n",
    "\n",
    "Most people become biased when they see the test cases in 1a and they only consider non-negative integers while writing the code. However numbers can be negative and/or floats as well. This is perfectly fine and the interviewer will bring up the special cases and you will be asked to revise your solution. Keep in mind, we are still only counting unique *digits*. \n",
    "\n",
    "Generate additional tests that contain at least one example of all special cases. Revise your function and apply it to the 1a and 1b test cases."
   ]
  },
  {
   "cell_type": "code",
   "execution_count": null,
   "metadata": {},
   "outputs": [
    {
     "name": "stdout",
     "output_type": "stream",
     "text": [
      "correct!\n",
      "correct!\n",
      "correct!\n",
      "correct!\n"
     ]
    }
   ],
   "source": [
    "#code taken from above \n",
    "tests = { -5:1, 5.159:3,-111.5697852:7, 89:2 }\n",
    "\n",
    "for test in tests.items():\n",
    "    \n",
    "    if count_unique_digits(test[0]) == test[1]: #We go through each test and check if the count_unique_digits function returns the correct output\n",
    "        print('correct!')\n",
    "    else:\n",
    "        print('incorrect!')\n",
    "        print('if the input is '+str(test[0])+', the correct output is '+str(test[1]))"
   ]
  },
  {
   "cell_type": "markdown",
   "metadata": {},
   "source": [
    "### **Problem 2**\n",
    "\n",
    "Here is another typical live coding interview problem.\n",
    "\n",
    "You are climbing a staircase with $n$ steps.\n",
    "\n",
    "Each time you can either climb 1 or 2 steps. In how many distinct ways can you climb to the top?\n",
    "\n",
    "If n = 2, there are two ways to climb to the top:\n",
    "- 1 step + 1 step\n",
    "- 2 steps\n",
    "    \n",
    "If n = 3, there are three ways to climb to the top:\n",
    "- 1 step + 1 step + 1 step\n",
    "- 2 steps + 1 step\n",
    "- 1 step + 2 steps\n",
    "\n",
    "Let's assume that $n$ is not too large: it is less than or equal to 30.\n"
   ]
  },
  {
   "cell_type": "markdown",
   "metadata": {},
   "source": [
    "### **Problem 2a** (5 points)\n",
    "\n",
    "Work it out below in the markdown cell what the correct solution is for n = 4, 5, and 6. Follow the format of the problem 2 description above. What do you notice about the number of steps and the number of distinct ways?"
   ]
  },
  {
   "cell_type": "markdown",
   "metadata": {},
   "source": [
    "Well, alrighjt\n",
    "for n=4\n",
    "1. 1+1+1+1\n",
    "2. 2+1+1\n",
    "3. 1+2+1\n",
    "4. 1+1+2\n",
    "5. 2+2\n",
    "\n",
    "for n=5\n",
    "1. 1+1+1+1+1\n",
    "2. 2+1+1+1\n",
    "3. 1+2+1+1\n",
    "4. 1+1+2+1\n",
    "5. 1+1+1+2\n",
    "6. 2+2+1\n",
    "7. 2+1+2\n",
    "8. 1+2+2\n",
    "\n",
    "for n=6\n",
    "1. 1+1+1+1+1+1\n",
    "2. 2+1+1+1+1\n",
    "3. 1+2+1+1+1\n",
    "4. 1+1+2+1+1\n",
    "5. 1+1+1+2+1\n",
    "6. 1+1+1+1+2\n",
    "7. 2+2+1+1\n",
    "8. 2+1+2+1\n",
    "9. 2+1+1+2\n",
    "10. 1+2+2+1\n",
    "11. 1+2+1+2\n",
    "12. 1+1+2+2\n",
    "13. 2+2+2\n",
    "\n",
    "So what I hAVE\n",
    "n=1 - 1\n",
    "n=2 - 2\n",
    "n=3 - 3\n",
    "n=4 - 5\n",
    "n=5 - 8\n",
    "n=6 - 13\n",
    "Looks like a Fibonacci thing\n",
    "Where each next number equals to sum of two previous ones\n"
   ]
  },
  {
   "cell_type": "markdown",
   "metadata": {},
   "source": []
  },
  {
   "cell_type": "markdown",
   "metadata": {},
   "source": [
    "### **Problem 2b** (10 points)\n",
    "\n",
    "Write a function and test it for $n$ = 2 to 6. Follow the code format of Problem 1a (function at the top, iterate through the test cases below). Additionally, print out the solutions for n = 10, 15, and 30."
   ]
  },
  {
   "cell_type": "code",
   "execution_count": null,
   "metadata": {},
   "outputs": [
    {
     "data": {
      "text/plain": [
       "55"
      ]
     },
     "execution_count": 54,
     "metadata": {},
     "output_type": "execute_result"
    }
   ],
   "source": [
    "# it. was. hard. maybe my variant is not elegant, and certainly not fast when we have big number for stairs but for 30 it will do\n",
    "def n_stairs_ways(n):\n",
    "    #n will be the number fo stairs, function will (hopefully) return the number of unique ways to climb them, by 1 and 2-stair steps\n",
    "    # ow user can write wrong number of stairs \n",
    "    if not isinstance(n, int) or n<0:\n",
    "        print(\"Only natural numbers are accepted\")\n",
    "        return None\n",
    "    #IT DOESNT WORK!! Unless I start the range from 2, Why well sequence begis with 1, 1, 2...\n",
    "    # but our \"ways sequence\" has only one \"1\" \n",
    "    # so it shifts by two places if we put 0 as a start of range, giving n=5 -21\n",
    "    #if i start range with 1, n=5 - 13\n",
    "    # so I do 2, to have correct variant n=5 - 8\n",
    "    #  i will write cases of n=1 or 0 manually:    \n",
    "    if n == 0:\n",
    "        return 1\n",
    "    # why 1 well there is only one way to do nothing\n",
    "    if n == 1:\n",
    "        return 1 \n",
    "    #here we go   \n",
    "    a, b = 1, 1\n",
    "    for i in range(2, n+1):\n",
    "        a, b = b, a+b\n",
    "        #so a like \"jumps\" to be next b, and b is sum of a and b, just like Fibonacci wanted \n",
    "    return b \n",
    "\n",
    "\n",
    "n_stairs_ways(9)    "
   ]
  },
  {
   "cell_type": "code",
   "execution_count": 56,
   "metadata": {},
   "outputs": [
    {
     "name": "stdout",
     "output_type": "stream",
     "text": [
      "correct!\n",
      "correct!\n",
      "correct!\n",
      "correct!\n",
      "correct!\n",
      "correct!\n",
      "correct!\n",
      "correct!\n",
      "correct!\n",
      "correct!\n",
      "correct!\n",
      "Only natural numbers are accepted\n",
      "correct!\n"
     ]
    }
   ],
   "source": [
    "#i took test code from above\n",
    "tests = { 0:1, 1:1, 2:2, 3:3, 4:5, 5:8, 6:13, 7:21, 8:34, 9:55, 10:89, -234:None}\n",
    "for test in tests.items():\n",
    "    \n",
    "    if n_stairs_ways(test[0]) == test[1]: #We go through each test and check if the count_unique_digits function returns the correct output\n",
    "        print('correct!')\n",
    "    else:\n",
    "        print('incorrect!')\n",
    "        print('if the input is '+str(test[0])+', the correct output is '+str(test[1]))"
   ]
  },
  {
   "cell_type": "markdown",
   "metadata": {},
   "source": []
  }
 ],
 "metadata": {
  "kernelspec": {
   "display_name": "Python (data1030)",
   "language": "python",
   "name": "data1030"
  }
 },
 "nbformat": 4,
 "nbformat_minor": 4
}
